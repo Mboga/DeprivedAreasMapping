{
 "cells": [
  {
   "cell_type": "code",
   "execution_count": 1,
   "metadata": {},
   "outputs": [
    {
     "data": {
      "text/plain": [
       "'\\n#DEPAI\\nread a layer of n polygons\\nIterate through the points shp\\nCompute square buffer around the centroid\\nbuffer to raster (resolution 0.5 m)\\nSave buffer raster, Save polygon, Save polygon as raster --extent is square buffer extent\\n#background, 0\\nassumes you have only train and test folders.\\n'"
      ]
     },
     "execution_count": 1,
     "metadata": {},
     "output_type": "execute_result"
    }
   ],
   "source": [
    "'''\n",
    "#DEPAI\n",
    "read a layer of n polygons\n",
    "Iterate through the points shp\n",
    "Compute square buffer around the centroid\n",
    "buffer to raster (resolution 0.5 m)\n",
    "Save buffer raster, Save polygon, Save polygon as raster --extent is square buffer extent\n",
    "#background, 0\n",
    "assumes you have only train and test folders.\n",
    "'''"
   ]
  },
  {
   "cell_type": "code",
   "execution_count": 2,
   "metadata": {},
   "outputs": [],
   "source": [
    "import geopandas\n",
    "import numpy as np\n",
    "import gdal\n",
    "import time\n",
    "import matplotlib.pyplot as plt\n",
    "import descartes"
   ]
  },
  {
   "cell_type": "code",
   "execution_count": 3,
   "metadata": {},
   "outputs": [],
   "source": [
    "root_path = 'E:/DEPAI_project'"
   ]
  },
  {
   "cell_type": "code",
   "execution_count": 4,
   "metadata": {},
   "outputs": [],
   "source": [
    "def gen_buffer(in_file_name, out_file_name, half_window_size):\n",
    "    '''\n",
    "    generate square buffers around centroids\n",
    "    '''\n",
    "    df_shp = geopandas.read_file(in_file_name)\n",
    "    selection = df_shp\n",
    "    for index, row in selection.iterrows():\n",
    "        #index=+1\n",
    "        pt_envelope = selection[index:index+1].centroid.buffer(half_window_size).envelope\n",
    "        # buffer 50 implies (2X50 = 100 x 100)\n",
    "        pt_envelope.to_file(out_file_name+str(index)+\"_\"+str(selection['class'][index])+'.shp')\n",
    "        #file name xx_yyyy.shp where xx is the patch number and yyyy is the label value"
   ]
  },
  {
   "cell_type": "code",
   "execution_count": 5,
   "metadata": {},
   "outputs": [
    {
     "name": "stdout",
     "output_type": "stream",
     "text": [
      "process complete in: 0.10829005241394044\n"
     ]
    }
   ],
   "source": [
    "\n",
    "# generate training set buffers\n",
    "t0 = time.time()\n",
    "\n",
    "#for the training set tiles\n",
    "in_shp_train = root_path + '/labelled_slum_data/training/kis_select_points.shp'\n",
    "out_SqBuffer_train = root_path + '/buffer_train_shp/'\n",
    "\n",
    "gen_buffer (in_shp_train,out_SqBuffer_train,50)\n",
    "\n",
    "t1 = time.time()\n",
    "print(\"process complete in:\",((t1-t0)/60))\n",
    "\n"
   ]
  },
  {
   "cell_type": "code",
   "execution_count": null,
   "metadata": {},
   "outputs": [],
   "source": [
    "#generate testset buffers\n",
    "t0 = time.time()\n",
    "# for the testset tiles\n",
    "in_shp_test = root_path + '/labelled_pop_data/testing/pop_tile_3.shp'\n",
    "out_SqBuffer_test = root_path + '/buffer_test_shp/'\n",
    "\n",
    "gen_buffer (in_shp_test,out_SqBuffer_test,50)\n",
    "\n",
    "t1 = time.time()\n",
    "print(\"process complete in:\",((t1-t0)/60))"
   ]
  }
 ],
 "metadata": {
  "kernelspec": {
   "display_name": "Python 3 (ipykernel)",
   "language": "python",
   "name": "python3"
  },
  "language_info": {
   "codemirror_mode": {
    "name": "ipython",
    "version": 3
   },
   "file_extension": ".py",
   "mimetype": "text/x-python",
   "name": "python",
   "nbconvert_exporter": "python",
   "pygments_lexer": "ipython3",
   "version": "3.7.11"
  }
 },
 "nbformat": 4,
 "nbformat_minor": 2
}

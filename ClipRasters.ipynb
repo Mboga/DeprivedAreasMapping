{
 "cells": [
  {
   "cell_type": "code",
   "execution_count": 1,
   "metadata": {},
   "outputs": [
    {
     "data": {
      "text/plain": [
       "'\\nDEPAI\\nclip a raster using polygon shapefiles gdal\\n\\n'"
      ]
     },
     "execution_count": 1,
     "metadata": {},
     "output_type": "execute_result"
    }
   ],
   "source": [
    "'''\n",
    "DEPAI\n",
    "clip a raster using polygon shapefiles gdal\n",
    "\n",
    "'''"
   ]
  },
  {
   "cell_type": "code",
   "execution_count": 2,
   "metadata": {},
   "outputs": [],
   "source": [
    "from __future__ import print_function\n",
    "import numpy as np\n",
    "from osgeo import gdal\n",
    "import os\n",
    "import glob\n",
    "import time"
   ]
  },
  {
   "cell_type": "code",
   "execution_count": 3,
   "metadata": {},
   "outputs": [],
   "source": [
    "root_path = 'E:/DEPAI_project'\n"
   ]
  },
  {
   "cell_type": "code",
   "execution_count": 4,
   "metadata": {},
   "outputs": [],
   "source": [
    "def clip_raster(path_to_buffers,path_to_clipped_rasters,input_raster_to_clip):\n",
    "    '''\n",
    "    clip a raster file using a vector buffer\n",
    "    '''\n",
    "    for fname in [f for f in os.listdir(path_to_buffers) if f.endswith('.shp')]:\n",
    "        in_shp = path_to_buffers+fname\n",
    "        out_rast = path_to_clipped_rasters+fname[:-4]+'.tif'\n",
    "        gdal.Warp(out_rast,input_raster_to_clip,format = 'GTiff',cutlineDSName = in_shp, cropToCutline= True)\n",
    "    \n",
    "    "
   ]
  },
  {
   "cell_type": "code",
   "execution_count": 5,
   "metadata": {},
   "outputs": [
    {
     "name": "stdout",
     "output_type": "stream",
     "text": [
      "clipping complete in: 0.04383089542388916\n"
     ]
    }
   ],
   "source": [
    "#training data\n",
    "in_raster_training =  root_path +\"/raw_tif_totrain/subset_S2_mosaic_2019Q1.tif\"\n",
    "in_buffer_training = root_path +\"/buffer_train_shp/\"\n",
    "clipped_raster_training = root_path +\"/clipped_tiles_train/\"\n",
    "\n",
    "t0 = time.time()\n",
    "\n",
    "clip_raster(in_buffer_training,clipped_raster_training,in_raster_training)\n",
    "\n",
    "t1 = time.time()\n",
    "\n",
    "print('clipping complete in:',((t1-t0)/60))\n"
   ]
  },
  {
   "cell_type": "code",
   "execution_count": null,
   "metadata": {},
   "outputs": [],
   "source": [
    "#testing data\n",
    "\n",
    "in_raster_testing = root_path +\"/raw_tif_totrain/subset_S2_mosaic_2019Q1.tif\"\n",
    "in_buffer_testing = root_path +\"/buffer_test_shp/\"\n",
    "clipped_raster_testing = root_path +\"/clipped_tiles_test/\"\n",
    "\n",
    "t0 = time.time()\n",
    "\n",
    "clip_raster(in_buffer_testing,clipped_raster_testing,in_raster_training)\n",
    "\n",
    "t1 = time.time()\n",
    "\n",
    "print('clipping complete in:',((t1-t0)/60))\n"
   ]
  },
  {
   "cell_type": "code",
   "execution_count": null,
   "metadata": {},
   "outputs": [],
   "source": []
  }
 ],
 "metadata": {
  "kernelspec": {
   "display_name": "Python 3 (ipykernel)",
   "language": "python",
   "name": "python3"
  },
  "language_info": {
   "codemirror_mode": {
    "name": "ipython",
    "version": 3
   },
   "file_extension": ".py",
   "mimetype": "text/x-python",
   "name": "python",
   "nbconvert_exporter": "python",
   "pygments_lexer": "ipython3",
   "version": "3.7.11"
  }
 },
 "nbformat": 4,
 "nbformat_minor": 2
}

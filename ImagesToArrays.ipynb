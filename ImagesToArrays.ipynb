{
 "cells": [
  {
   "cell_type": "code",
   "execution_count": 1,
   "metadata": {},
   "outputs": [],
   "source": [
    "# DEPAI project\n",
    "# organise your patches in two folders of training and test\n",
    "# the script generates arrays of trainset and testset \n",
    "# the trainset has dimension (N x L x W x B) --N  - number of patches, L x w are length and height of the patches, B is the mumber of bands\n",
    "# the testset has dimension (N) -- number of patches"
   ]
  },
  {
   "cell_type": "code",
   "execution_count": 2,
   "metadata": {},
   "outputs": [],
   "source": [
    "from __future__ import division, print_function\n",
    "import os\n",
    "import math\n",
    "import h5py\n",
    "from PIL import Image\n",
    "import subprocess, glob\n",
    "import numpy as np\n",
    "import time\n",
    "from osgeo import gdal\n",
    "%matplotlib inline"
   ]
  },
  {
   "cell_type": "code",
   "execution_count": 3,
   "metadata": {},
   "outputs": [],
   "source": [
    "# normalize the top array\n",
    "def norm_rgbn(data,gmax,gmin):\n",
    "    \"\"\"\n",
    "    rexcale  the multispectral data [0,1]\n",
    "    data--the multispectral array\n",
    "    \"\"\"\n",
    "    data = data.astype(float)\n",
    "    data_norm = (data - gmin)/(gmax - gmin)\n",
    "    return data_norm"
   ]
  },
  {
   "cell_type": "code",
   "execution_count": 4,
   "metadata": {},
   "outputs": [],
   "source": [
    "#functions for loading the images and converting them to arrays\n",
    "def img_to_array(*images):\n",
    "    \"\"\"Convert an image or list of images to numpy arrays.\n",
    "\n",
    "    Keyword arguments:\n",
    "    *images -- list containing the images to be converted\n",
    "    \"\"\"\n",
    "    imgarrays = []\n",
    "    i = 0\n",
    "    for img in images:\n",
    "        arr = gtiff_to_array(img)\n",
    "        imgarrays.append(arr)\n",
    "    return imgarrays\n",
    "\n",
    "# convert the geotiff to a numpy array\n",
    "def gtiff_to_array(imgfname):\n",
    "    \"\"\"Transform a geotiff to numpy array.\n",
    "\n",
    "    Keyword arguments:\n",
    "    imgfnames -- filename of image to convert\n",
    "    \"\"\"\n",
    "    ds = gdal.Open(imgfname)\n",
    "    for band in range(ds.RasterCount):\n",
    "        band += 1\n",
    "        if band == 1:\n",
    "            arr = np.array(ds.GetRasterBand(band).ReadAsArray())\n",
    "            arr = np.expand_dims(arr, axis=2)\n",
    "        else:\n",
    "            concat = np.array(ds.GetRasterBand(band).ReadAsArray())\n",
    "            concat = np.expand_dims(concat, axis=2)\n",
    "            arr = np.concatenate((arr,\n",
    "                                  concat),\n",
    "                                 axis=2)\n",
    "    return arr"
   ]
  },
  {
   "cell_type": "code",
   "execution_count": 5,
   "metadata": {},
   "outputs": [],
   "source": [
    "def gen_arrays(files_path):\n",
    "    '''\n",
    "    generate arrays from image tiles\n",
    "    '''\n",
    "    label_list = []\n",
    "    images_list = []\n",
    "    for raw in files_path:\n",
    "        #print (raw)\n",
    "        images = img_to_array(raw)\n",
    "        #print (images)\n",
    "        images_list.append(np.expand_dims(images[0],axis = 0))\n",
    "\n",
    "        #labels\n",
    "        label = os.path.splitext(raw)[0].split('\\\\')[1].split('_')[1]\n",
    "        label_list.append(label)\n",
    "\n",
    "    #final arrays\n",
    "    images_list = np.concatenate (np.asarray(images_list), axis = 0)\n",
    "    label_list = list (map(int, label_list))\n",
    "    label_list_array = np.asarray(label_list)\n",
    "    #print (images_list)\n",
    "    \n",
    "    return images_list,label_list_array\n"
   ]
  },
  {
   "cell_type": "code",
   "execution_count": 6,
   "metadata": {},
   "outputs": [],
   "source": [
    "root_path = 'E:/DEPAI_project'\n",
    "raw_train_files = glob.glob(root_path+\"/clipped_tiles_train/*.tif\")\n",
    "raw_test_files = glob.glob(root_path+\"/clipped_tiles_test/*.tif\")\n",
    "\n",
    "out_train_arr = root_path + \"/trial_arrays/train/city_samples.hdf5\"\n",
    "out_test_arr = root_path +\"/trial_arrays/test/city_samples.hdf5\"\n",
    "\n",
    "# generate the trainset arrays\n",
    "images_list,label_list_array = gen_arrays(raw_train_files)\n",
    "\n",
    "# save the train arrays\n",
    "with h5py.File(out_train_arr, mode = \"w\") as f:\n",
    "    f[\"X_train\"] = images_list\n",
    "    f[\"Y_train\"] = label_list_array"
   ]
  },
  {
   "cell_type": "code",
   "execution_count": 29,
   "metadata": {},
   "outputs": [],
   "source": [
    "#generate the testset arrays\n",
    "image_list,label_list_array = gen_arrays(raw_test_files)\n",
    "\n",
    "# save the test test arrays\n",
    "with h5py.File(out_test_arr, mode = \"w\") as f:\n",
    "    f[\"X_test\"] = images_list\n",
    "    f[\"Y_test\"] = label_list_array"
   ]
  },
  {
   "cell_type": "code",
   "execution_count": null,
   "metadata": {},
   "outputs": [],
   "source": []
  }
 ],
 "metadata": {
  "kernelspec": {
   "display_name": "Python 3 (ipykernel)",
   "language": "python",
   "name": "python3"
  },
  "language_info": {
   "codemirror_mode": {
    "name": "ipython",
    "version": 3
   },
   "file_extension": ".py",
   "mimetype": "text/x-python",
   "name": "python",
   "nbconvert_exporter": "python",
   "pygments_lexer": "ipython3",
   "version": "3.7.11"
  }
 },
 "nbformat": 4,
 "nbformat_minor": 4
}
